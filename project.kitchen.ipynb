{
 "cells": [
  {
   "cell_type": "markdown",
   "metadata": {},
   "source": [
    "# Final notebook for Millestone 3"
   ]
  },
  {
   "cell_type": "markdown",
   "metadata": {},
   "source": [
    "For this last version, we kept our first analysis, and we tried to dig deeper in the following topics:\n",
    "\n",
    "* [ ] xxxxxxxxxxxx\n",
    "* [ ] xxxxxxxxxxxx\n",
    "* [ ] xxxxxxxxxxxx\n",
    "* [ ] xxxxxxxxxxxx\n",
    "\n",
    "\n",
    "### imports"
   ]
  },
  {
   "cell_type": "code",
   "execution_count": 1,
   "metadata": {},
   "outputs": [],
   "source": [
    "import warnings\n",
    "warnings.filterwarnings('ignore')"
   ]
  },
  {
   "cell_type": "code",
   "execution_count": 2,
   "metadata": {},
   "outputs": [],
   "source": [
    "%load_ext autoreload\n",
    "%autoreload 2\n",
    "\n",
    "import warnings; warnings.simplefilter('ignore')\n",
    "import os, codecs, string, random\n",
    "import matplotlib.pyplot as plt\n",
    "import numpy as np\n",
    "from numpy.random import seed as random_seed\n",
    "from numpy.random import shuffle as random_shuffle\n",
    "seed = 42\n",
    "random.seed(seed)\n",
    "np.random.seed(seed)\n",
    "\n",
    "#Scikit imports\n",
    "from sklearn.feature_extraction.text import CountVectorizer\n",
    "from sklearn.model_selection import train_test_split\n",
    "from sklearn.model_selection import cross_val_score\n",
    "from sklearn.linear_model import LogisticRegression\n",
    "from sklearn import preprocessing\n",
    "from sklearn.preprocessing import StandardScaler\n",
    "from sklearn.utils import shuffle\n",
    "import gensim\n",
    "import time\n",
    "from wordcloud import WordCloud, STOPWORDS, ImageColorGenerator\n"
   ]
  },
  {
   "cell_type": "code",
   "execution_count": 3,
   "metadata": {},
   "outputs": [],
   "source": [
    "import json\n",
    "import gzip\n",
    "import re\n",
    "import itertools\n",
    "import regex\n",
    "import pandas as pd\n",
    "import gzip\n",
    "import datetime\n",
    "import scipy.stats as stats\n",
    "import math\n",
    "import seaborn as sns\n",
    "import matplotlib.pyplot as plt\n",
    "%matplotlib inline  \n",
    "\n",
    "#NLP libraries\n",
    "import spacy, nltk, sklearn\n",
    "import pyLDAvis.gensim\n",
    "from nltk.corpus import stopwords\n",
    "from typing import Optional\n",
    "pd.options.mode.chained_assignment = None \n",
    "\n",
    "#Vader\n",
    "import vaderSentiment\n",
    "from vaderSentiment.vaderSentiment import SentimentIntensityAnalyzer"
   ]
  },
  {
   "cell_type": "code",
   "execution_count": 4,
   "metadata": {},
   "outputs": [],
   "source": [
    "# Plot settings\n",
    "plt.rcParams['figure.dpi'] = 100\n",
    "sns.set()  # Use default seaborn styling for all plots\n",
    "sns.set_context('notebook')"
   ]
  },
  {
   "cell_type": "markdown",
   "metadata": {},
   "source": [
    "# Preproccesing:\n",
    "\n",
    "As we have a very large dataset containing reviews of all amazon's products in  differents subsets by type:\n",
    "\n",
    "* Books\t\n",
    "* Electronics\t\n",
    "* Movies and TV\t\n",
    "* CDs and Vinyl\t\n",
    "* Clothing, Shoes and Jewelry\t\n",
    "* Home and Kitchen\t\n",
    "* Kindle Store\t\n",
    "* Sports and Outdoors\t\n",
    "* Cell Phones and Accessories\t\n",
    "* Health and Personal Care\t\n",
    "* Toys and Games\t\n",
    "* Video Games\t\n",
    "* Tools and Home Improvement\t\t\n",
    "* Beauty\t\n",
    "* Apps for Android\t\n",
    "* Office Products\t\n",
    "* Pet Supplies\t\n",
    "* Automotive\t5-core \n",
    "* Grocery and Gourmet Food\t\n",
    "* Patio, Lawn and Garden\t\n",
    "* Baby\t5-core \n",
    "* Digital Music\t\n",
    "* Musical Instruments\t\n",
    "* Amazon Instant Video\n",
    "\n",
    "For this step, we chose to work with a small subsets to perform our preprocessing, and to have a first idea how efficient it was since we don't handle textual data. We will start by exploring the data, products reviewed and ratings, and try to extract meaningful information, and then we will handle the textual reviews, clean it as much as possible.\n",
    "\n"
   ]
  },
  {
   "cell_type": "markdown",
   "metadata": {},
   "source": [
    "* Useful functions for reading data, provided by Amazon."
   ]
  },
  {
   "cell_type": "code",
   "execution_count": 5,
   "metadata": {},
   "outputs": [],
   "source": [
    "def parse(path):\n",
    "    g = gzip.open(path, 'rb')\n",
    "    for l in g:\n",
    "        yield eval(l)\n",
    "\n",
    "def getDF(path):\n",
    "    i = 0\n",
    "    df = {}\n",
    "    for d in parse(path):\n",
    "        df[i] = d\n",
    "        i += 1\n",
    "    return pd.DataFrame.from_dict(df, orient='index')"
   ]
  },
  {
   "cell_type": "markdown",
   "metadata": {},
   "source": [
    "### Step 1 : Loading the dataset\n",
    "* Reading the dataset and displaying some important figures."
   ]
  },
  {
   "cell_type": "code",
   "execution_count": 6,
   "metadata": {},
   "outputs": [
    {
     "name": "stderr",
     "output_type": "stream",
     "text": [
      "b'Skipping line 16148: expected 15 fields, saw 22\\nSkipping line 20100: expected 15 fields, saw 22\\nSkipping line 45178: expected 15 fields, saw 22\\nSkipping line 48700: expected 15 fields, saw 22\\nSkipping line 63331: expected 15 fields, saw 22\\n'\n",
      "b'Skipping line 86053: expected 15 fields, saw 22\\nSkipping line 88858: expected 15 fields, saw 22\\nSkipping line 115017: expected 15 fields, saw 22\\n'\n",
      "b'Skipping line 137366: expected 15 fields, saw 22\\nSkipping line 139110: expected 15 fields, saw 22\\nSkipping line 165540: expected 15 fields, saw 22\\nSkipping line 171813: expected 15 fields, saw 22\\n'\n",
      "b'Skipping line 203723: expected 15 fields, saw 22\\nSkipping line 209366: expected 15 fields, saw 22\\nSkipping line 211310: expected 15 fields, saw 22\\nSkipping line 246351: expected 15 fields, saw 22\\nSkipping line 252364: expected 15 fields, saw 22\\n'\n",
      "b'Skipping line 267003: expected 15 fields, saw 22\\nSkipping line 268957: expected 15 fields, saw 22\\nSkipping line 303336: expected 15 fields, saw 22\\nSkipping line 306021: expected 15 fields, saw 22\\nSkipping line 311569: expected 15 fields, saw 22\\nSkipping line 316767: expected 15 fields, saw 22\\nSkipping line 324009: expected 15 fields, saw 22\\n'\n",
      "b'Skipping line 359107: expected 15 fields, saw 22\\nSkipping line 368367: expected 15 fields, saw 22\\nSkipping line 381180: expected 15 fields, saw 22\\nSkipping line 390453: expected 15 fields, saw 22\\n'\n",
      "b'Skipping line 412243: expected 15 fields, saw 22\\nSkipping line 419342: expected 15 fields, saw 22\\nSkipping line 457388: expected 15 fields, saw 22\\n'\n",
      "b'Skipping line 459935: expected 15 fields, saw 22\\nSkipping line 460167: expected 15 fields, saw 22\\nSkipping line 466460: expected 15 fields, saw 22\\nSkipping line 500314: expected 15 fields, saw 22\\nSkipping line 500339: expected 15 fields, saw 22\\nSkipping line 505396: expected 15 fields, saw 22\\nSkipping line 507760: expected 15 fields, saw 22\\nSkipping line 513626: expected 15 fields, saw 22\\n'\n",
      "b'Skipping line 527638: expected 15 fields, saw 22\\nSkipping line 534209: expected 15 fields, saw 22\\nSkipping line 535687: expected 15 fields, saw 22\\nSkipping line 547671: expected 15 fields, saw 22\\nSkipping line 549054: expected 15 fields, saw 22\\n'\n",
      "b'Skipping line 599929: expected 15 fields, saw 22\\nSkipping line 604776: expected 15 fields, saw 22\\nSkipping line 609937: expected 15 fields, saw 22\\nSkipping line 632059: expected 15 fields, saw 22\\nSkipping line 638546: expected 15 fields, saw 22\\n'\n",
      "b'Skipping line 665017: expected 15 fields, saw 22\\nSkipping line 677680: expected 15 fields, saw 22\\nSkipping line 684370: expected 15 fields, saw 22\\nSkipping line 720217: expected 15 fields, saw 29\\n'\n",
      "b'Skipping line 723240: expected 15 fields, saw 22\\nSkipping line 723433: expected 15 fields, saw 22\\nSkipping line 763891: expected 15 fields, saw 22\\n'\n",
      "b'Skipping line 800288: expected 15 fields, saw 22\\nSkipping line 802942: expected 15 fields, saw 22\\nSkipping line 803379: expected 15 fields, saw 22\\nSkipping line 805122: expected 15 fields, saw 22\\nSkipping line 821899: expected 15 fields, saw 22\\nSkipping line 831707: expected 15 fields, saw 22\\nSkipping line 842829: expected 15 fields, saw 22\\nSkipping line 843604: expected 15 fields, saw 22\\n'\n",
      "b'Skipping line 863904: expected 15 fields, saw 22\\nSkipping line 875655: expected 15 fields, saw 22\\nSkipping line 886796: expected 15 fields, saw 22\\nSkipping line 892299: expected 15 fields, saw 22\\nSkipping line 902518: expected 15 fields, saw 22\\nSkipping line 903079: expected 15 fields, saw 22\\nSkipping line 912678: expected 15 fields, saw 22\\n'\n",
      "b'Skipping line 932953: expected 15 fields, saw 22\\nSkipping line 936838: expected 15 fields, saw 22\\nSkipping line 937177: expected 15 fields, saw 22\\nSkipping line 947695: expected 15 fields, saw 22\\nSkipping line 960713: expected 15 fields, saw 22\\nSkipping line 965225: expected 15 fields, saw 22\\nSkipping line 980776: expected 15 fields, saw 22\\n'\n",
      "b'Skipping line 999318: expected 15 fields, saw 22\\nSkipping line 1007247: expected 15 fields, saw 22\\nSkipping line 1015987: expected 15 fields, saw 22\\nSkipping line 1018984: expected 15 fields, saw 22\\nSkipping line 1028671: expected 15 fields, saw 22\\n'\n",
      "b'Skipping line 1063360: expected 15 fields, saw 22\\nSkipping line 1066195: expected 15 fields, saw 22\\nSkipping line 1066578: expected 15 fields, saw 22\\nSkipping line 1066869: expected 15 fields, saw 22\\nSkipping line 1068809: expected 15 fields, saw 22\\nSkipping line 1069505: expected 15 fields, saw 22\\nSkipping line 1087983: expected 15 fields, saw 22\\nSkipping line 1108184: expected 15 fields, saw 22\\n'\n",
      "b'Skipping line 1118137: expected 15 fields, saw 22\\nSkipping line 1142723: expected 15 fields, saw 22\\nSkipping line 1152492: expected 15 fields, saw 22\\nSkipping line 1156947: expected 15 fields, saw 22\\nSkipping line 1172563: expected 15 fields, saw 22\\n'\n",
      "b'Skipping line 1209254: expected 15 fields, saw 22\\nSkipping line 1212966: expected 15 fields, saw 22\\nSkipping line 1236533: expected 15 fields, saw 22\\nSkipping line 1237598: expected 15 fields, saw 22\\n'\n",
      "b'Skipping line 1273825: expected 15 fields, saw 22\\nSkipping line 1277898: expected 15 fields, saw 22\\nSkipping line 1283654: expected 15 fields, saw 22\\nSkipping line 1286023: expected 15 fields, saw 22\\nSkipping line 1302038: expected 15 fields, saw 22\\nSkipping line 1305179: expected 15 fields, saw 22\\n'\n",
      "b'Skipping line 1326022: expected 15 fields, saw 22\\nSkipping line 1338120: expected 15 fields, saw 22\\nSkipping line 1338503: expected 15 fields, saw 22\\nSkipping line 1338849: expected 15 fields, saw 22\\nSkipping line 1341513: expected 15 fields, saw 22\\nSkipping line 1346493: expected 15 fields, saw 22\\nSkipping line 1373127: expected 15 fields, saw 22\\n'\n",
      "b'Skipping line 1389508: expected 15 fields, saw 22\\nSkipping line 1413951: expected 15 fields, saw 22\\nSkipping line 1433626: expected 15 fields, saw 22\\n'\n",
      "b'Skipping line 1442698: expected 15 fields, saw 22\\nSkipping line 1472982: expected 15 fields, saw 22\\nSkipping line 1482282: expected 15 fields, saw 22\\nSkipping line 1487808: expected 15 fields, saw 22\\nSkipping line 1500636: expected 15 fields, saw 22\\n'\n",
      "b'Skipping line 1511479: expected 15 fields, saw 22\\nSkipping line 1532302: expected 15 fields, saw 22\\nSkipping line 1537952: expected 15 fields, saw 22\\nSkipping line 1539951: expected 15 fields, saw 22\\nSkipping line 1541020: expected 15 fields, saw 22\\n'\n",
      "b'Skipping line 1594217: expected 15 fields, saw 22\\nSkipping line 1612264: expected 15 fields, saw 22\\nSkipping line 1615907: expected 15 fields, saw 22\\nSkipping line 1621859: expected 15 fields, saw 22\\n'\n",
      "b'Skipping line 1653542: expected 15 fields, saw 22\\nSkipping line 1671537: expected 15 fields, saw 22\\nSkipping line 1672879: expected 15 fields, saw 22\\nSkipping line 1674523: expected 15 fields, saw 22\\nSkipping line 1677355: expected 15 fields, saw 22\\nSkipping line 1703907: expected 15 fields, saw 22\\n'\n",
      "b'Skipping line 1713046: expected 15 fields, saw 22\\nSkipping line 1722982: expected 15 fields, saw 22\\nSkipping line 1727290: expected 15 fields, saw 22\\nSkipping line 1744482: expected 15 fields, saw 22\\n'\n",
      "b'Skipping line 1803858: expected 15 fields, saw 22\\nSkipping line 1810069: expected 15 fields, saw 22\\nSkipping line 1829751: expected 15 fields, saw 22\\nSkipping line 1831699: expected 15 fields, saw 22\\n'\n",
      "b'Skipping line 1863131: expected 15 fields, saw 22\\nSkipping line 1867917: expected 15 fields, saw 22\\nSkipping line 1874790: expected 15 fields, saw 22\\nSkipping line 1879952: expected 15 fields, saw 22\\nSkipping line 1880501: expected 15 fields, saw 22\\nSkipping line 1886655: expected 15 fields, saw 22\\nSkipping line 1887888: expected 15 fields, saw 22\\nSkipping line 1894286: expected 15 fields, saw 22\\nSkipping line 1895400: expected 15 fields, saw 22\\n'\n",
      "b'Skipping line 1904040: expected 15 fields, saw 22\\nSkipping line 1907604: expected 15 fields, saw 22\\nSkipping line 1915739: expected 15 fields, saw 22\\nSkipping line 1921514: expected 15 fields, saw 22\\nSkipping line 1939428: expected 15 fields, saw 22\\nSkipping line 1944342: expected 15 fields, saw 22\\nSkipping line 1949699: expected 15 fields, saw 22\\nSkipping line 1961872: expected 15 fields, saw 22\\n'\n"
     ]
    },
    {
     "name": "stderr",
     "output_type": "stream",
     "text": [
      "b'Skipping line 1968846: expected 15 fields, saw 22\\nSkipping line 1999941: expected 15 fields, saw 22\\nSkipping line 2001492: expected 15 fields, saw 22\\nSkipping line 2011204: expected 15 fields, saw 22\\nSkipping line 2025295: expected 15 fields, saw 22\\n'\n",
      "b'Skipping line 2041266: expected 15 fields, saw 22\\nSkipping line 2073314: expected 15 fields, saw 22\\nSkipping line 2080133: expected 15 fields, saw 22\\nSkipping line 2088521: expected 15 fields, saw 22\\n'\n",
      "b'Skipping line 2103490: expected 15 fields, saw 22\\nSkipping line 2115278: expected 15 fields, saw 22\\nSkipping line 2153174: expected 15 fields, saw 22\\nSkipping line 2161731: expected 15 fields, saw 22\\n'\n",
      "b'Skipping line 2165250: expected 15 fields, saw 22\\nSkipping line 2175132: expected 15 fields, saw 22\\nSkipping line 2206817: expected 15 fields, saw 22\\nSkipping line 2215848: expected 15 fields, saw 22\\nSkipping line 2223811: expected 15 fields, saw 22\\n'\n",
      "b'Skipping line 2257265: expected 15 fields, saw 22\\nSkipping line 2259163: expected 15 fields, saw 22\\nSkipping line 2263291: expected 15 fields, saw 22\\n'\n",
      "b'Skipping line 2301943: expected 15 fields, saw 22\\nSkipping line 2304371: expected 15 fields, saw 22\\nSkipping line 2306015: expected 15 fields, saw 22\\nSkipping line 2312186: expected 15 fields, saw 22\\nSkipping line 2314740: expected 15 fields, saw 22\\nSkipping line 2317754: expected 15 fields, saw 22\\n'\n",
      "b'Skipping line 2383514: expected 15 fields, saw 22\\n'\n",
      "b'Skipping line 2449763: expected 15 fields, saw 22\\n'\n",
      "b'Skipping line 2589323: expected 15 fields, saw 22\\n'\n",
      "b'Skipping line 2775036: expected 15 fields, saw 22\\n'\n",
      "b'Skipping line 2935174: expected 15 fields, saw 22\\n'\n",
      "b'Skipping line 3078830: expected 15 fields, saw 22\\n'\n",
      "b'Skipping line 3123091: expected 15 fields, saw 22\\n'\n",
      "b'Skipping line 3185533: expected 15 fields, saw 22\\n'\n",
      "b'Skipping line 4150395: expected 15 fields, saw 22\\n'\n",
      "b'Skipping line 4748401: expected 15 fields, saw 22\\n'\n"
     ]
    },
    {
     "data": {
      "text/html": [
       "<div>\n",
       "<style scoped>\n",
       "    .dataframe tbody tr th:only-of-type {\n",
       "        vertical-align: middle;\n",
       "    }\n",
       "\n",
       "    .dataframe tbody tr th {\n",
       "        vertical-align: top;\n",
       "    }\n",
       "\n",
       "    .dataframe thead th {\n",
       "        text-align: right;\n",
       "    }\n",
       "</style>\n",
       "<table border=\"1\" class=\"dataframe\">\n",
       "  <thead>\n",
       "    <tr style=\"text-align: right;\">\n",
       "      <th></th>\n",
       "      <th>marketplace</th>\n",
       "      <th>customer_id</th>\n",
       "      <th>review_id</th>\n",
       "      <th>product_id</th>\n",
       "      <th>product_parent</th>\n",
       "      <th>product_title</th>\n",
       "      <th>product_category</th>\n",
       "      <th>star_rating</th>\n",
       "      <th>helpful_votes</th>\n",
       "      <th>total_votes</th>\n",
       "      <th>vine</th>\n",
       "      <th>verified_purchase</th>\n",
       "      <th>review_headline</th>\n",
       "      <th>review_body</th>\n",
       "      <th>review_date</th>\n",
       "    </tr>\n",
       "  </thead>\n",
       "  <tbody>\n",
       "    <tr>\n",
       "      <th>0</th>\n",
       "      <td>US</td>\n",
       "      <td>37000337</td>\n",
       "      <td>R3DT59XH7HXR9K</td>\n",
       "      <td>B00303FI0G</td>\n",
       "      <td>529320574</td>\n",
       "      <td>Arthur Court Paper Towel Holder</td>\n",
       "      <td>Kitchen</td>\n",
       "      <td>5.0</td>\n",
       "      <td>0.0</td>\n",
       "      <td>0.0</td>\n",
       "      <td>N</td>\n",
       "      <td>Y</td>\n",
       "      <td>Beautiful. Looks great on counter</td>\n",
       "      <td>Beautiful.  Looks great on counter.</td>\n",
       "      <td>2015-08-31</td>\n",
       "    </tr>\n",
       "    <tr>\n",
       "      <th>1</th>\n",
       "      <td>US</td>\n",
       "      <td>15272914</td>\n",
       "      <td>R1LFS11BNASSU8</td>\n",
       "      <td>B00JCZKZN6</td>\n",
       "      <td>274237558</td>\n",
       "      <td>Olde Thompson Bavaria Glass Salt and Pepper Mi...</td>\n",
       "      <td>Kitchen</td>\n",
       "      <td>5.0</td>\n",
       "      <td>0.0</td>\n",
       "      <td>1.0</td>\n",
       "      <td>N</td>\n",
       "      <td>Y</td>\n",
       "      <td>Awesome &amp; Self-ness</td>\n",
       "      <td>I personally have 5 days sets and have also bo...</td>\n",
       "      <td>2015-08-31</td>\n",
       "    </tr>\n",
       "    <tr>\n",
       "      <th>2</th>\n",
       "      <td>US</td>\n",
       "      <td>36137863</td>\n",
       "      <td>R296RT05AG0AF6</td>\n",
       "      <td>B00JLIKA5C</td>\n",
       "      <td>544675303</td>\n",
       "      <td>Progressive International PL8 Professional Man...</td>\n",
       "      <td>Kitchen</td>\n",
       "      <td>5.0</td>\n",
       "      <td>0.0</td>\n",
       "      <td>0.0</td>\n",
       "      <td>N</td>\n",
       "      <td>Y</td>\n",
       "      <td>Fabulous and worth every penny</td>\n",
       "      <td>Fabulous and worth every penny. Used for clean...</td>\n",
       "      <td>2015-08-31</td>\n",
       "    </tr>\n",
       "    <tr>\n",
       "      <th>3</th>\n",
       "      <td>US</td>\n",
       "      <td>43311049</td>\n",
       "      <td>R3V37XDZ7ZCI3L</td>\n",
       "      <td>B000GBNB8G</td>\n",
       "      <td>491599489</td>\n",
       "      <td>Zyliss Jumbo Garlic Press</td>\n",
       "      <td>Kitchen</td>\n",
       "      <td>5.0</td>\n",
       "      <td>0.0</td>\n",
       "      <td>1.0</td>\n",
       "      <td>N</td>\n",
       "      <td>Y</td>\n",
       "      <td>Five Stars</td>\n",
       "      <td>A must if you love garlic on tomato marinara s...</td>\n",
       "      <td>2015-08-31</td>\n",
       "    </tr>\n",
       "  </tbody>\n",
       "</table>\n",
       "</div>"
      ],
      "text/plain": [
       "  marketplace  customer_id       review_id  product_id  product_parent  \\\n",
       "0          US     37000337  R3DT59XH7HXR9K  B00303FI0G       529320574   \n",
       "1          US     15272914  R1LFS11BNASSU8  B00JCZKZN6       274237558   \n",
       "2          US     36137863  R296RT05AG0AF6  B00JLIKA5C       544675303   \n",
       "3          US     43311049  R3V37XDZ7ZCI3L  B000GBNB8G       491599489   \n",
       "\n",
       "                                       product_title product_category  \\\n",
       "0                    Arthur Court Paper Towel Holder          Kitchen   \n",
       "1  Olde Thompson Bavaria Glass Salt and Pepper Mi...          Kitchen   \n",
       "2  Progressive International PL8 Professional Man...          Kitchen   \n",
       "3                          Zyliss Jumbo Garlic Press          Kitchen   \n",
       "\n",
       "   star_rating  helpful_votes  total_votes vine verified_purchase  \\\n",
       "0          5.0            0.0          0.0    N                 Y   \n",
       "1          5.0            0.0          1.0    N                 Y   \n",
       "2          5.0            0.0          0.0    N                 Y   \n",
       "3          5.0            0.0          1.0    N                 Y   \n",
       "\n",
       "                     review_headline  \\\n",
       "0  Beautiful. Looks great on counter   \n",
       "1                Awesome & Self-ness   \n",
       "2     Fabulous and worth every penny   \n",
       "3                         Five Stars   \n",
       "\n",
       "                                         review_body review_date  \n",
       "0                Beautiful.  Looks great on counter.  2015-08-31  \n",
       "1  I personally have 5 days sets and have also bo...  2015-08-31  \n",
       "2  Fabulous and worth every penny. Used for clean...  2015-08-31  \n",
       "3  A must if you love garlic on tomato marinara s...  2015-08-31  "
      ]
     },
     "execution_count": 6,
     "metadata": {},
     "output_type": "execute_result"
    }
   ],
   "source": [
    "data_path = 'data/'\n",
    "dataset_path = data_path + 'full/amazon_reviews_us_Kitchen_v1_00.tsv.gz'\n",
    "\n",
    "df = pd.read_csv(\n",
    "    dataset_path,\n",
    "    error_bad_lines=False,\n",
    "    sep='\\t',\n",
    "    header=0\n",
    ")\n",
    "\n",
    "df.head(4)"
   ]
  },
  {
   "cell_type": "code",
   "execution_count": 7,
   "metadata": {},
   "outputs": [],
   "source": [
    "df = df[['customer_id', 'product_id', 'helpful_votes', 'total_votes', 'review_headline', 'star_rating', 'review_body', 'review_date']]\n",
    "\n",
    "df = df.rename(columns={\n",
    "    'customer_id': 'reviewerID',\n",
    "    'product_id': 'asin',\n",
    "    'review_headline': 'summary',\n",
    "    'review_body': 'reviewText',\n",
    "    'star_rating': 'overall',\n",
    "    'review_date': 'reviewTime'\n",
    "}).dropna()\n",
    "\n",
    "df['unixReviewTime'] = df.reviewTime.map(lambda s: int(time.mktime(datetime.datetime.strptime(s, '%Y-%m-%d').timetuple())))"
   ]
  },
  {
   "cell_type": "code",
   "execution_count": 8,
   "metadata": {},
   "outputs": [
    {
     "data": {
      "text/html": [
       "<div>\n",
       "<style scoped>\n",
       "    .dataframe tbody tr th:only-of-type {\n",
       "        vertical-align: middle;\n",
       "    }\n",
       "\n",
       "    .dataframe tbody tr th {\n",
       "        vertical-align: top;\n",
       "    }\n",
       "\n",
       "    .dataframe thead th {\n",
       "        text-align: right;\n",
       "    }\n",
       "</style>\n",
       "<table border=\"1\" class=\"dataframe\">\n",
       "  <thead>\n",
       "    <tr style=\"text-align: right;\">\n",
       "      <th></th>\n",
       "      <th>reviewerID</th>\n",
       "      <th>asin</th>\n",
       "      <th>helpful_votes</th>\n",
       "      <th>total_votes</th>\n",
       "      <th>summary</th>\n",
       "      <th>overall</th>\n",
       "      <th>reviewText</th>\n",
       "      <th>reviewTime</th>\n",
       "      <th>unixReviewTime</th>\n",
       "    </tr>\n",
       "  </thead>\n",
       "  <tbody>\n",
       "    <tr>\n",
       "      <th>0</th>\n",
       "      <td>37000337</td>\n",
       "      <td>B00303FI0G</td>\n",
       "      <td>0.0</td>\n",
       "      <td>0.0</td>\n",
       "      <td>Beautiful. Looks great on counter</td>\n",
       "      <td>5.0</td>\n",
       "      <td>Beautiful.  Looks great on counter.</td>\n",
       "      <td>2015-08-31</td>\n",
       "      <td>1440972000</td>\n",
       "    </tr>\n",
       "    <tr>\n",
       "      <th>1</th>\n",
       "      <td>15272914</td>\n",
       "      <td>B00JCZKZN6</td>\n",
       "      <td>0.0</td>\n",
       "      <td>1.0</td>\n",
       "      <td>Awesome &amp; Self-ness</td>\n",
       "      <td>5.0</td>\n",
       "      <td>I personally have 5 days sets and have also bo...</td>\n",
       "      <td>2015-08-31</td>\n",
       "      <td>1440972000</td>\n",
       "    </tr>\n",
       "    <tr>\n",
       "      <th>2</th>\n",
       "      <td>36137863</td>\n",
       "      <td>B00JLIKA5C</td>\n",
       "      <td>0.0</td>\n",
       "      <td>0.0</td>\n",
       "      <td>Fabulous and worth every penny</td>\n",
       "      <td>5.0</td>\n",
       "      <td>Fabulous and worth every penny. Used for clean...</td>\n",
       "      <td>2015-08-31</td>\n",
       "      <td>1440972000</td>\n",
       "    </tr>\n",
       "    <tr>\n",
       "      <th>3</th>\n",
       "      <td>43311049</td>\n",
       "      <td>B000GBNB8G</td>\n",
       "      <td>0.0</td>\n",
       "      <td>1.0</td>\n",
       "      <td>Five Stars</td>\n",
       "      <td>5.0</td>\n",
       "      <td>A must if you love garlic on tomato marinara s...</td>\n",
       "      <td>2015-08-31</td>\n",
       "      <td>1440972000</td>\n",
       "    </tr>\n",
       "  </tbody>\n",
       "</table>\n",
       "</div>"
      ],
      "text/plain": [
       "   reviewerID        asin  helpful_votes  total_votes  \\\n",
       "0    37000337  B00303FI0G            0.0          0.0   \n",
       "1    15272914  B00JCZKZN6            0.0          1.0   \n",
       "2    36137863  B00JLIKA5C            0.0          0.0   \n",
       "3    43311049  B000GBNB8G            0.0          1.0   \n",
       "\n",
       "                             summary  overall  \\\n",
       "0  Beautiful. Looks great on counter      5.0   \n",
       "1                Awesome & Self-ness      5.0   \n",
       "2     Fabulous and worth every penny      5.0   \n",
       "3                         Five Stars      5.0   \n",
       "\n",
       "                                          reviewText  reviewTime  \\\n",
       "0                Beautiful.  Looks great on counter.  2015-08-31   \n",
       "1  I personally have 5 days sets and have also bo...  2015-08-31   \n",
       "2  Fabulous and worth every penny. Used for clean...  2015-08-31   \n",
       "3  A must if you love garlic on tomato marinara s...  2015-08-31   \n",
       "\n",
       "   unixReviewTime  \n",
       "0      1440972000  \n",
       "1      1440972000  \n",
       "2      1440972000  \n",
       "3      1440972000  "
      ]
     },
     "execution_count": 8,
     "metadata": {},
     "output_type": "execute_result"
    }
   ],
   "source": [
    "df.head(4)"
   ]
  },
  {
   "cell_type": "code",
   "execution_count": 9,
   "metadata": {},
   "outputs": [
    {
     "name": "stdout",
     "output_type": "stream",
     "text": [
      "reviewerID          int64\n",
      "asin               object\n",
      "helpful_votes     float64\n",
      "total_votes       float64\n",
      "summary            object\n",
      "overall           float64\n",
      "reviewText         object\n",
      "reviewTime         object\n",
      "unixReviewTime      int64\n",
      "dtype: object\n"
     ]
    }
   ],
   "source": [
    "# @CHANGELOG was the sample\n",
    "#df = getDF('data/samples/reviews_Pet_Supplies_5.json.gz')\n",
    "#df_copy = df.copy()\n",
    "#df['reviewText'] = df.reviewText.astype('str')\n",
    "# Get some informations about columns\n",
    "#df['asin'] = df.asin.astype('str')\n",
    "\n",
    "print(df.dtypes) # type of each attribute "
   ]
  },
  {
   "cell_type": "code",
   "execution_count": 10,
   "metadata": {},
   "outputs": [],
   "source": [
    "#df.head()"
   ]
  },
  {
   "cell_type": "code",
   "execution_count": 11,
   "metadata": {},
   "outputs": [
    {
     "data": {
      "text/html": [
       "<div>\n",
       "<style scoped>\n",
       "    .dataframe tbody tr th:only-of-type {\n",
       "        vertical-align: middle;\n",
       "    }\n",
       "\n",
       "    .dataframe tbody tr th {\n",
       "        vertical-align: top;\n",
       "    }\n",
       "\n",
       "    .dataframe thead th {\n",
       "        text-align: right;\n",
       "    }\n",
       "</style>\n",
       "<table border=\"1\" class=\"dataframe\">\n",
       "  <thead>\n",
       "    <tr style=\"text-align: right;\">\n",
       "      <th></th>\n",
       "      <th>reviewerID</th>\n",
       "      <th>helpful_votes</th>\n",
       "      <th>total_votes</th>\n",
       "      <th>overall</th>\n",
       "      <th>unixReviewTime</th>\n",
       "    </tr>\n",
       "  </thead>\n",
       "  <tbody>\n",
       "    <tr>\n",
       "      <th>count</th>\n",
       "      <td>4.874586e+06</td>\n",
       "      <td>4.874586e+06</td>\n",
       "      <td>4.874586e+06</td>\n",
       "      <td>4.874586e+06</td>\n",
       "      <td>4.874586e+06</td>\n",
       "    </tr>\n",
       "    <tr>\n",
       "      <th>mean</th>\n",
       "      <td>2.921118e+07</td>\n",
       "      <td>2.246911e+00</td>\n",
       "      <td>2.678359e+00</td>\n",
       "      <td>4.207315e+00</td>\n",
       "      <td>1.379014e+09</td>\n",
       "    </tr>\n",
       "    <tr>\n",
       "      <th>std</th>\n",
       "      <td>1.526715e+07</td>\n",
       "      <td>2.292278e+01</td>\n",
       "      <td>2.409930e+01</td>\n",
       "      <td>1.286998e+00</td>\n",
       "      <td>6.941337e+07</td>\n",
       "    </tr>\n",
       "    <tr>\n",
       "      <th>min</th>\n",
       "      <td>1.002700e+04</td>\n",
       "      <td>0.000000e+00</td>\n",
       "      <td>0.000000e+00</td>\n",
       "      <td>1.000000e+00</td>\n",
       "      <td>9.483228e+08</td>\n",
       "    </tr>\n",
       "    <tr>\n",
       "      <th>25%</th>\n",
       "      <td>1.540446e+07</td>\n",
       "      <td>0.000000e+00</td>\n",
       "      <td>0.000000e+00</td>\n",
       "      <td>4.000000e+00</td>\n",
       "      <td>1.361920e+09</td>\n",
       "    </tr>\n",
       "    <tr>\n",
       "      <th>50%</th>\n",
       "      <td>2.871646e+07</td>\n",
       "      <td>0.000000e+00</td>\n",
       "      <td>0.000000e+00</td>\n",
       "      <td>5.000000e+00</td>\n",
       "      <td>1.402610e+09</td>\n",
       "    </tr>\n",
       "    <tr>\n",
       "      <th>75%</th>\n",
       "      <td>4.352032e+07</td>\n",
       "      <td>1.000000e+00</td>\n",
       "      <td>1.000000e+00</td>\n",
       "      <td>5.000000e+00</td>\n",
       "      <td>1.423696e+09</td>\n",
       "    </tr>\n",
       "    <tr>\n",
       "      <th>max</th>\n",
       "      <td>5.309658e+07</td>\n",
       "      <td>1.117300e+04</td>\n",
       "      <td>1.150100e+04</td>\n",
       "      <td>5.000000e+00</td>\n",
       "      <td>1.440972e+09</td>\n",
       "    </tr>\n",
       "  </tbody>\n",
       "</table>\n",
       "</div>"
      ],
      "text/plain": [
       "         reviewerID  helpful_votes   total_votes       overall  unixReviewTime\n",
       "count  4.874586e+06   4.874586e+06  4.874586e+06  4.874586e+06    4.874586e+06\n",
       "mean   2.921118e+07   2.246911e+00  2.678359e+00  4.207315e+00    1.379014e+09\n",
       "std    1.526715e+07   2.292278e+01  2.409930e+01  1.286998e+00    6.941337e+07\n",
       "min    1.002700e+04   0.000000e+00  0.000000e+00  1.000000e+00    9.483228e+08\n",
       "25%    1.540446e+07   0.000000e+00  0.000000e+00  4.000000e+00    1.361920e+09\n",
       "50%    2.871646e+07   0.000000e+00  0.000000e+00  5.000000e+00    1.402610e+09\n",
       "75%    4.352032e+07   1.000000e+00  1.000000e+00  5.000000e+00    1.423696e+09\n",
       "max    5.309658e+07   1.117300e+04  1.150100e+04  5.000000e+00    1.440972e+09"
      ]
     },
     "execution_count": 11,
     "metadata": {},
     "output_type": "execute_result"
    }
   ],
   "source": [
    "df.describe()"
   ]
  },
  {
   "cell_type": "code",
   "execution_count": 12,
   "metadata": {},
   "outputs": [
    {
     "name": "stdout",
     "output_type": "stream",
     "text": [
      "Number of reviews : 4874586 \n",
      "Number of articles reviewed : 433225 \n",
      "Number of  reviewers  : 2828038 \n"
     ]
    }
   ],
   "source": [
    "# Basic figures for this sample.\n",
    "nb_articles = df['asin'].unique().shape[0]\n",
    "nb_reviewers = df['reviewerID'].unique().shape[0]\n",
    "nb_reviews = df.shape[0]\n",
    "\n",
    "print(\"Number of reviews : %d \" % nb_reviews)\n",
    "print(\"Number of articles reviewed : %d \" % nb_articles)\n",
    "print(\"Number of  reviewers  : %d \" % nb_reviewers)"
   ]
  },
  {
   "cell_type": "markdown",
   "metadata": {},
   "source": [
    "### Step 2 : Textual description preprocessing"
   ]
  },
  {
   "cell_type": "markdown",
   "metadata": {},
   "source": [
    "1.  We try to create a dictionnary of text normalization, wchich can be helpful to substitute incorrect words with correct one. We have two references : \n",
    "\n",
    "\n",
    " * link1( http://www.hlt.utdallas.edu/~yangl/data/Text_Norm_Data_Release_Fei_Liu/)\n",
    " * link2( http://luululu.com/tweet/typo-corpus-r1.txt)\n"
   ]
  },
  {
   "cell_type": "code",
   "execution_count": 13,
   "metadata": {},
   "outputs": [
    {
     "data": {
      "text/html": [
       "<div>\n",
       "<style scoped>\n",
       "    .dataframe tbody tr th:only-of-type {\n",
       "        vertical-align: middle;\n",
       "    }\n",
       "\n",
       "    .dataframe tbody tr th {\n",
       "        vertical-align: top;\n",
       "    }\n",
       "\n",
       "    .dataframe thead th {\n",
       "        text-align: right;\n",
       "    }\n",
       "</style>\n",
       "<table border=\"1\" class=\"dataframe\">\n",
       "  <thead>\n",
       "    <tr style=\"text-align: right;\">\n",
       "      <th></th>\n",
       "      <th>reviewerID</th>\n",
       "      <th>asin</th>\n",
       "      <th>helpful_votes</th>\n",
       "      <th>total_votes</th>\n",
       "      <th>summary</th>\n",
       "      <th>overall</th>\n",
       "      <th>reviewText</th>\n",
       "      <th>reviewTime</th>\n",
       "      <th>unixReviewTime</th>\n",
       "      <th>word_count</th>\n",
       "      <th>char_count</th>\n",
       "    </tr>\n",
       "  </thead>\n",
       "  <tbody>\n",
       "    <tr>\n",
       "      <th>0</th>\n",
       "      <td>37000337</td>\n",
       "      <td>B00303FI0G</td>\n",
       "      <td>0.0</td>\n",
       "      <td>0.0</td>\n",
       "      <td>Beautiful. Looks great on counter</td>\n",
       "      <td>5.0</td>\n",
       "      <td>Beautiful.  Looks great on counter.</td>\n",
       "      <td>2015-08-31</td>\n",
       "      <td>1440972000</td>\n",
       "      <td>6</td>\n",
       "      <td>35</td>\n",
       "    </tr>\n",
       "    <tr>\n",
       "      <th>1</th>\n",
       "      <td>15272914</td>\n",
       "      <td>B00JCZKZN6</td>\n",
       "      <td>0.0</td>\n",
       "      <td>1.0</td>\n",
       "      <td>Awesome &amp; Self-ness</td>\n",
       "      <td>5.0</td>\n",
       "      <td>I personally have 5 days sets and have also bo...</td>\n",
       "      <td>2015-08-31</td>\n",
       "      <td>1440972000</td>\n",
       "      <td>217</td>\n",
       "      <td>1095</td>\n",
       "    </tr>\n",
       "    <tr>\n",
       "      <th>2</th>\n",
       "      <td>36137863</td>\n",
       "      <td>B00JLIKA5C</td>\n",
       "      <td>0.0</td>\n",
       "      <td>0.0</td>\n",
       "      <td>Fabulous and worth every penny</td>\n",
       "      <td>5.0</td>\n",
       "      <td>Fabulous and worth every penny. Used for clean...</td>\n",
       "      <td>2015-08-31</td>\n",
       "      <td>1440972000</td>\n",
       "      <td>19</td>\n",
       "      <td>110</td>\n",
       "    </tr>\n",
       "    <tr>\n",
       "      <th>3</th>\n",
       "      <td>43311049</td>\n",
       "      <td>B000GBNB8G</td>\n",
       "      <td>0.0</td>\n",
       "      <td>1.0</td>\n",
       "      <td>Five Stars</td>\n",
       "      <td>5.0</td>\n",
       "      <td>A must if you love garlic on tomato marinara s...</td>\n",
       "      <td>2015-08-31</td>\n",
       "      <td>1440972000</td>\n",
       "      <td>10</td>\n",
       "      <td>51</td>\n",
       "    </tr>\n",
       "    <tr>\n",
       "      <th>4</th>\n",
       "      <td>13763148</td>\n",
       "      <td>B00VJ5KX9S</td>\n",
       "      <td>0.0</td>\n",
       "      <td>0.0</td>\n",
       "      <td>Better than sex</td>\n",
       "      <td>5.0</td>\n",
       "      <td>Worth every penny! Buy one now and be a pizza ...</td>\n",
       "      <td>2015-08-31</td>\n",
       "      <td>1440972000</td>\n",
       "      <td>12</td>\n",
       "      <td>60</td>\n",
       "    </tr>\n",
       "  </tbody>\n",
       "</table>\n",
       "</div>"
      ],
      "text/plain": [
       "   reviewerID        asin  helpful_votes  total_votes  \\\n",
       "0    37000337  B00303FI0G            0.0          0.0   \n",
       "1    15272914  B00JCZKZN6            0.0          1.0   \n",
       "2    36137863  B00JLIKA5C            0.0          0.0   \n",
       "3    43311049  B000GBNB8G            0.0          1.0   \n",
       "4    13763148  B00VJ5KX9S            0.0          0.0   \n",
       "\n",
       "                             summary  overall  \\\n",
       "0  Beautiful. Looks great on counter      5.0   \n",
       "1                Awesome & Self-ness      5.0   \n",
       "2     Fabulous and worth every penny      5.0   \n",
       "3                         Five Stars      5.0   \n",
       "4                    Better than sex      5.0   \n",
       "\n",
       "                                          reviewText  reviewTime  \\\n",
       "0                Beautiful.  Looks great on counter.  2015-08-31   \n",
       "1  I personally have 5 days sets and have also bo...  2015-08-31   \n",
       "2  Fabulous and worth every penny. Used for clean...  2015-08-31   \n",
       "3  A must if you love garlic on tomato marinara s...  2015-08-31   \n",
       "4  Worth every penny! Buy one now and be a pizza ...  2015-08-31   \n",
       "\n",
       "   unixReviewTime  word_count  char_count  \n",
       "0      1440972000           6          35  \n",
       "1      1440972000         217        1095  \n",
       "2      1440972000          19         110  \n",
       "3      1440972000          10          51  \n",
       "4      1440972000          12          60  "
      ]
     },
     "execution_count": 13,
     "metadata": {},
     "output_type": "execute_result"
    }
   ],
   "source": [
    "def load_lexical_normalization():\n",
    "    \"\"\"\n",
    "    Function to load lexical normalization dictionaries found online: \n",
    "        http://www.hlt.utdallas.edu/~yangl/data/Text_Norm_Data_Release_Fei_Liu/\n",
    "        http://luululu.com/tweet/typo-corpus-r1.txt\n",
    "    These dictionaries help perform a spell check on reviews and convert their \n",
    "    words to normal english words\n",
    "    Result: lex_orm : a dictionary, the keys are incorrect words and the values are correct words\n",
    "    \"\"\"\n",
    "    lex_norm = {}\n",
    "    \n",
    "    dictionary1 = open('helpers/TextNormalization.txt', 'rb')\n",
    "    for word in dictionary1:\n",
    "        word = word.decode('utf8')\n",
    "        word = word.split()\n",
    "        lex_norm[word[1]] = word[3]\n",
    "    dictionary1.close()\n",
    "    dictionary2 = open('helpers/TypoCorpus.txt', 'rb')\n",
    "    for word in dictionary2:\n",
    "        word = word.decode('utf8')\n",
    "        word = word.split()\n",
    "        lex_norm[word[0]] = word[1]\n",
    "    dictionary2.close()\n",
    "    return lex_norm\n",
    "lex_norm = load_lexical_normalization()\n",
    "\n",
    "def spell_check(review):\n",
    "    \"\"\"\n",
    "    Function that corrects words using the corpus loaded with load_lexical_normalization()\n",
    "    Arguments: \n",
    "        review: a string that represents the raw review\n",
    "        lexNorm: a dictionary\n",
    "    Result: a string that represents the corrected review\n",
    "    \"\"\"\n",
    "    review = review.split()\n",
    "    for i in range(len(review)):\n",
    "        if review[i] in lex_norm.keys():\n",
    "            review[i] = lex_norm[review[i]]\n",
    "    review = ' '.join(review)\n",
    "    return review\n",
    "\n",
    "\n",
    "def clean_char_repetitions(review):\n",
    "    \"\"\"\n",
    "    Function that removes repeated letters in words\n",
    "    \"\"\"\n",
    "    \n",
    "    review=review.split()\n",
    "    for i in range(len(review)):\n",
    "        review[i]=''.join(''.join(s)[:2] for _, s in itertools.groupby(review[i])).replace('#', '')\n",
    "\n",
    "    review=' '.join(review)\n",
    "    return review\n",
    "\n",
    "def spell_preprocessing(review):\n",
    "    ''' \n",
    "    Apply the two previous functions\n",
    "    '''\n",
    "    review = spell_check(review)\n",
    "    return clean_char_repetitions(review)\n",
    "\n",
    "\n",
    "\n",
    "\n",
    "# Add word  adn char count\n",
    "df['word_count'] = df['reviewText'].apply(lambda x: len(str(x).split(\" \")))\n",
    "df['char_count'] = df['reviewText'].str.len() \n",
    "\n",
    "df.head()"
   ]
  },
  {
   "cell_type": "markdown",
   "metadata": {},
   "source": [
    "### Applying textual preprocessing\n"
   ]
  },
  {
   "cell_type": "code",
   "execution_count": 14,
   "metadata": {},
   "outputs": [
    {
     "name": "stderr",
     "output_type": "stream",
     "text": [
      "<input>:8: DeprecationWarning: invalid escape sequence \\w\n",
      "<input>:8: DeprecationWarning: invalid escape sequence \\w\n",
      "<input>:8: DeprecationWarning: invalid escape sequence \\w\n",
      "<ipython-input-14-6d3d340f83c8>:8: DeprecationWarning: invalid escape sequence \\w\n",
      "  df['reviewText'] = df['reviewText'].str.replace('[^\\w\\s]','')\n"
     ]
    }
   ],
   "source": [
    "# apply spell preprocessing to the review body\n",
    "df['reviewText'] = df['reviewText'].map(spell_preprocessing)\n",
    "\n",
    "#Transform reviews to lower case to avoid repetitions of the words.\n",
    "df['reviewText'] = df['reviewText'].apply(lambda x: \" \".join(x.lower() for x in x.split()))\n",
    "\n",
    "# Removing ponctuation\n",
    "df['reviewText'] = df['reviewText'].str.replace('[^\\w\\s]','')"
   ]
  },
  {
   "cell_type": "code",
   "execution_count": 15,
   "metadata": {},
   "outputs": [
    {
     "name": "stdout",
     "output_type": "stream",
     "text": [
      "[nltk_data] Downloading package stopwords to\n",
      "[nltk_data]     /home/braymond/nltk_data...\n",
      "[nltk_data]   Package stopwords is already up-to-date!\n"
     ]
    }
   ],
   "source": [
    "# Remove stopwords: that, is, are ..\n",
    "nltk.download('stopwords')\n",
    "stop = stopwords.words('english')\n",
    "df['reviewText'] = df['reviewText'].apply(lambda x: \" \".join(x for x in x.split() if x not in stop))"
   ]
  },
  {
   "cell_type": "code",
   "execution_count": 16,
   "metadata": {},
   "outputs": [
    {
     "name": "stdout",
     "output_type": "stream",
     "text": [
      "List of stopwords filtred: \n",
      " \n",
      "['i', 'me', 'my', 'myself', 'we', 'our', 'ours', 'ourselves', 'you', \"you're\", \"you've\", \"you'll\", \"you'd\", 'your', 'yours', 'yourself', 'yourselves', 'he', 'him', 'his', 'himself', 'she', \"she's\", 'her', 'hers', 'herself', 'it', \"it's\", 'its', 'itself', 'they', 'them', 'their', 'theirs', 'themselves', 'what', 'which', 'who', 'whom', 'this', 'that', \"that'll\", 'these', 'those', 'am', 'is', 'are', 'was', 'were', 'be', 'been', 'being', 'have', 'has', 'had', 'having', 'do', 'does', 'did', 'doing', 'a', 'an', 'the', 'and', 'but', 'if', 'or', 'because', 'as', 'until', 'while', 'of', 'at', 'by', 'for', 'with', 'about', 'against', 'between', 'into', 'through', 'during', 'before', 'after', 'above', 'below', 'to', 'from', 'up', 'down', 'in', 'out', 'on', 'off', 'over', 'under', 'again', 'further', 'then', 'once', 'here', 'there', 'when', 'where', 'why', 'how', 'all', 'any', 'both', 'each', 'few', 'more', 'most', 'other', 'some', 'such', 'no', 'nor', 'not', 'only', 'own', 'same', 'so', 'than', 'too', 'very', 's', 't', 'can', 'will', 'just', 'don', \"don't\", 'should', \"should've\", 'now', 'd', 'll', 'm', 'o', 're', 've', 'y', 'ain', 'aren', \"aren't\", 'couldn', \"couldn't\", 'didn', \"didn't\", 'doesn', \"doesn't\", 'hadn', \"hadn't\", 'hasn', \"hasn't\", 'haven', \"haven't\", 'isn', \"isn't\", 'ma', 'mightn', \"mightn't\", 'mustn', \"mustn't\", 'needn', \"needn't\", 'shan', \"shan't\", 'shouldn', \"shouldn't\", 'wasn', \"wasn't\", 'weren', \"weren't\", 'won', \"won't\", 'wouldn', \"wouldn't\"]\n"
     ]
    }
   ],
   "source": [
    "print(\"List of stopwords filtred: \\n \")\n",
    "print(stop)"
   ]
  },
  {
   "cell_type": "code",
   "execution_count": 17,
   "metadata": {},
   "outputs": [
    {
     "data": {
      "text/html": [
       "<div>\n",
       "<style scoped>\n",
       "    .dataframe tbody tr th:only-of-type {\n",
       "        vertical-align: middle;\n",
       "    }\n",
       "\n",
       "    .dataframe tbody tr th {\n",
       "        vertical-align: top;\n",
       "    }\n",
       "\n",
       "    .dataframe thead th {\n",
       "        text-align: right;\n",
       "    }\n",
       "</style>\n",
       "<table border=\"1\" class=\"dataframe\">\n",
       "  <thead>\n",
       "    <tr style=\"text-align: right;\">\n",
       "      <th></th>\n",
       "      <th>reviewerID</th>\n",
       "      <th>asin</th>\n",
       "      <th>helpful_votes</th>\n",
       "      <th>total_votes</th>\n",
       "      <th>summary</th>\n",
       "      <th>overall</th>\n",
       "      <th>reviewText</th>\n",
       "      <th>reviewTime</th>\n",
       "      <th>unixReviewTime</th>\n",
       "      <th>word_count</th>\n",
       "      <th>char_count</th>\n",
       "    </tr>\n",
       "  </thead>\n",
       "  <tbody>\n",
       "    <tr>\n",
       "      <th>0</th>\n",
       "      <td>37000337</td>\n",
       "      <td>B00303FI0G</td>\n",
       "      <td>0.0</td>\n",
       "      <td>0.0</td>\n",
       "      <td>Beautiful. Looks great on counter</td>\n",
       "      <td>5.0</td>\n",
       "      <td>beautiful looks great counter</td>\n",
       "      <td>2015-08-31</td>\n",
       "      <td>1440972000</td>\n",
       "      <td>4</td>\n",
       "      <td>29</td>\n",
       "    </tr>\n",
       "    <tr>\n",
       "      <th>1</th>\n",
       "      <td>15272914</td>\n",
       "      <td>B00JCZKZN6</td>\n",
       "      <td>0.0</td>\n",
       "      <td>1.0</td>\n",
       "      <td>Awesome &amp; Self-ness</td>\n",
       "      <td>5.0</td>\n",
       "      <td>personally 5 days sets also bought 2 sets peop...</td>\n",
       "      <td>2015-08-31</td>\n",
       "      <td>1440972000</td>\n",
       "      <td>96</td>\n",
       "      <td>597</td>\n",
       "    </tr>\n",
       "    <tr>\n",
       "      <th>2</th>\n",
       "      <td>36137863</td>\n",
       "      <td>B00JLIKA5C</td>\n",
       "      <td>0.0</td>\n",
       "      <td>0.0</td>\n",
       "      <td>Fabulous and worth every penny</td>\n",
       "      <td>5.0</td>\n",
       "      <td>fabulous worth every penny used cleaning corn ...</td>\n",
       "      <td>2015-08-31</td>\n",
       "      <td>1440972000</td>\n",
       "      <td>12</td>\n",
       "      <td>82</td>\n",
       "    </tr>\n",
       "    <tr>\n",
       "      <th>3</th>\n",
       "      <td>43311049</td>\n",
       "      <td>B000GBNB8G</td>\n",
       "      <td>0.0</td>\n",
       "      <td>1.0</td>\n",
       "      <td>Five Stars</td>\n",
       "      <td>5.0</td>\n",
       "      <td>must love garlic tomato marinara sauce</td>\n",
       "      <td>2015-08-31</td>\n",
       "      <td>1440972000</td>\n",
       "      <td>6</td>\n",
       "      <td>38</td>\n",
       "    </tr>\n",
       "    <tr>\n",
       "      <th>4</th>\n",
       "      <td>13763148</td>\n",
       "      <td>B00VJ5KX9S</td>\n",
       "      <td>0.0</td>\n",
       "      <td>0.0</td>\n",
       "      <td>Better than sex</td>\n",
       "      <td>5.0</td>\n",
       "      <td>worth every penny buy one pizza slice master</td>\n",
       "      <td>2015-08-31</td>\n",
       "      <td>1440972000</td>\n",
       "      <td>8</td>\n",
       "      <td>44</td>\n",
       "    </tr>\n",
       "  </tbody>\n",
       "</table>\n",
       "</div>"
      ],
      "text/plain": [
       "   reviewerID        asin  helpful_votes  total_votes  \\\n",
       "0    37000337  B00303FI0G            0.0          0.0   \n",
       "1    15272914  B00JCZKZN6            0.0          1.0   \n",
       "2    36137863  B00JLIKA5C            0.0          0.0   \n",
       "3    43311049  B000GBNB8G            0.0          1.0   \n",
       "4    13763148  B00VJ5KX9S            0.0          0.0   \n",
       "\n",
       "                             summary  overall  \\\n",
       "0  Beautiful. Looks great on counter      5.0   \n",
       "1                Awesome & Self-ness      5.0   \n",
       "2     Fabulous and worth every penny      5.0   \n",
       "3                         Five Stars      5.0   \n",
       "4                    Better than sex      5.0   \n",
       "\n",
       "                                          reviewText  reviewTime  \\\n",
       "0                      beautiful looks great counter  2015-08-31   \n",
       "1  personally 5 days sets also bought 2 sets peop...  2015-08-31   \n",
       "2  fabulous worth every penny used cleaning corn ...  2015-08-31   \n",
       "3             must love garlic tomato marinara sauce  2015-08-31   \n",
       "4       worth every penny buy one pizza slice master  2015-08-31   \n",
       "\n",
       "   unixReviewTime  word_count  char_count  \n",
       "0      1440972000           4          29  \n",
       "1      1440972000          96         597  \n",
       "2      1440972000          12          82  \n",
       "3      1440972000           6          38  \n",
       "4      1440972000           8          44  "
      ]
     },
     "execution_count": 17,
     "metadata": {},
     "output_type": "execute_result"
    }
   ],
   "source": [
    "# redo the word count \n",
    "df['word_count'] = df['reviewText'].apply(lambda x: len(str(x).split(\" \")))\n",
    "df['char_count'] = df['reviewText'].str.len() \n",
    "\n",
    "df.head()"
   ]
  },
  {
   "cell_type": "markdown",
   "metadata": {},
   "source": [
    "* We can se that we let go of many unusefull words, and with the remaining one we'll try to conduct the final analysis\n",
    "\n",
    "### End of Preprocessing"
   ]
  },
  {
   "cell_type": "markdown",
   "metadata": {},
   "source": [
    "\n",
    "\n",
    "# Next step of textual analysis ( See below 2/F)\n",
    "\n",
    "* For the next milestone, we're going to go deeper into natural language processing, and try to extract information from the text review or the summary (or both) and identify if there's a causality between high helpfulness and a good comment (review)"
   ]
  },
  {
   "cell_type": "markdown",
   "metadata": {},
   "source": [
    "# Analysis Step : \n",
    "###  A/ Visualisation of data"
   ]
  },
  {
   "cell_type": "markdown",
   "metadata": {},
   "source": [
    "Let's try and visualize distribution of ratings, We will handle:\n",
    "1. Global ratings \n",
    "2. Mean rating per item\n",
    "3. Mean rating per reviewer\n",
    "\n",
    "##############################\n",
    "\n",
    "1. Global ratings \n"
   ]
  },
  {
   "cell_type": "code",
   "execution_count": 18,
   "metadata": {},
   "outputs": [
    {
     "data": {
      "image/png": "[encoded data removed]",
      "text/plain": [
       "<Figure size 600x400 with 1 Axes>"
      ]
     },
     "metadata": {},
     "output_type": "display_data"
    }
   ],
   "source": [
    "# Plot bins of ratings\n",
    "summary = df.groupby('overall')['summary'].agg(\"count\")\n",
    "summary.plot(kind='bar', colormap='inferno')\n",
    "plt.title('Overall rating')\n",
    "plt.xlabel('ratings')\n",
    "plt.ylabel('Count')\n",
    "plt.rcParams[\"figure.figsize\"] = [13,6]"
   ]
  },
  {
   "cell_type": "code",
   "execution_count": 19,
   "metadata": {},
   "outputs": [
    {
     "data": {
      "text/plain": [
       "overall\n",
       "1.0     426863\n",
       "2.0     241932\n",
       "3.0     349536\n",
       "4.0     731693\n",
       "5.0    3124562\n",
       "Name: summary, dtype: int64"
      ]
     },
     "execution_count": 19,
     "metadata": {},
     "output_type": "execute_result"
    }
   ],
   "source": [
    "summary"
   ]
  },
  {
   "cell_type": "markdown",
   "metadata": {},
   "source": [
    "We can see that a majority of rating scores are 5. "
   ]
  },
  {
   "cell_type": "code",
   "execution_count": 20,
   "metadata": {},
   "outputs": [
    {
     "data": {
      "text/html": [
       "<div>\n",
       "<style scoped>\n",
       "    .dataframe tbody tr th:only-of-type {\n",
       "        vertical-align: middle;\n",
       "    }\n",
       "\n",
       "    .dataframe tbody tr th {\n",
       "        vertical-align: top;\n",
       "    }\n",
       "\n",
       "    .dataframe thead th {\n",
       "        text-align: right;\n",
       "    }\n",
       "</style>\n",
       "<table border=\"1\" class=\"dataframe\">\n",
       "  <thead>\n",
       "    <tr style=\"text-align: right;\">\n",
       "      <th></th>\n",
       "      <th>asin</th>\n",
       "      <th>overall</th>\n",
       "      <th>first_rating</th>\n",
       "    </tr>\n",
       "  </thead>\n",
       "  <tbody>\n",
       "    <tr>\n",
       "      <th>0</th>\n",
       "      <td>0001487795</td>\n",
       "      <td>5.0</td>\n",
       "      <td>5.0</td>\n",
       "    </tr>\n",
       "    <tr>\n",
       "      <th>1</th>\n",
       "      <td>0130350591</td>\n",
       "      <td>5.0</td>\n",
       "      <td>5.0</td>\n",
       "    </tr>\n",
       "    <tr>\n",
       "      <th>2</th>\n",
       "      <td>0555667502</td>\n",
       "      <td>5.0</td>\n",
       "      <td>5.0</td>\n",
       "    </tr>\n",
       "  </tbody>\n",
       "</table>\n",
       "</div>"
      ],
      "text/plain": [
       "         asin  overall  first_rating\n",
       "0  0001487795      5.0           5.0\n",
       "1  0130350591      5.0           5.0\n",
       "2  0555667502      5.0           5.0"
      ]
     },
     "execution_count": 20,
     "metadata": {},
     "output_type": "execute_result"
    }
   ],
   "source": [
    "df_tmp = df\n",
    "df_tmp['first_rating'] = df_tmp['overall']\n",
    "\n",
    "gby_product = df_tmp.groupby('asin', as_index=False)[['overall', 'first_rating']].agg({\n",
    "    'overall': 'mean',\n",
    "    'first_rating': lambda x: x.iloc[-1]\n",
    "})\n",
    "\n",
    "def get_mean_rating(asin):\n",
    "    return gby_product[asin]\n",
    "\n",
    "#df['meanRating'] = df['asin'].map(get_mean_rating)\n",
    "gby_product.head(3)"
   ]
  },
  {
   "cell_type": "code",
   "execution_count": 21,
   "metadata": {},
   "outputs": [],
   "source": [
    "# Plot the average rating per item\n"
   ]
  },
  {
   "cell_type": "markdown",
   "metadata": {},
   "source": [
    "* Visualize reviewers' behavior towards the items"
   ]
  },
  {
   "cell_type": "code",
   "execution_count": 22,
   "metadata": {},
   "outputs": [
    {
     "data": {
      "text/html": [
       "<div>\n",
       "<style scoped>\n",
       "    .dataframe tbody tr th:only-of-type {\n",
       "        vertical-align: middle;\n",
       "    }\n",
       "\n",
       "    .dataframe tbody tr th {\n",
       "        vertical-align: top;\n",
       "    }\n",
       "\n",
       "    .dataframe thead th {\n",
       "        text-align: right;\n",
       "    }\n",
       "</style>\n",
       "<table border=\"1\" class=\"dataframe\">\n",
       "  <thead>\n",
       "    <tr style=\"text-align: right;\">\n",
       "      <th></th>\n",
       "      <th>reviewerID</th>\n",
       "      <th>overall</th>\n",
       "    </tr>\n",
       "  </thead>\n",
       "  <tbody>\n",
       "    <tr>\n",
       "      <th>0</th>\n",
       "      <td>10027</td>\n",
       "      <td>5.0</td>\n",
       "    </tr>\n",
       "    <tr>\n",
       "      <th>1</th>\n",
       "      <td>10030</td>\n",
       "      <td>5.0</td>\n",
       "    </tr>\n",
       "    <tr>\n",
       "      <th>2</th>\n",
       "      <td>10034</td>\n",
       "      <td>3.0</td>\n",
       "    </tr>\n",
       "    <tr>\n",
       "      <th>3</th>\n",
       "      <td>10049</td>\n",
       "      <td>3.0</td>\n",
       "    </tr>\n",
       "    <tr>\n",
       "      <th>4</th>\n",
       "      <td>10084</td>\n",
       "      <td>5.0</td>\n",
       "    </tr>\n",
       "  </tbody>\n",
       "</table>\n",
       "</div>"
      ],
      "text/plain": [
       "   reviewerID  overall\n",
       "0       10027      5.0\n",
       "1       10030      5.0\n",
       "2       10034      3.0\n",
       "3       10049      3.0\n",
       "4       10084      5.0"
      ]
     },
     "execution_count": 22,
     "metadata": {},
     "output_type": "execute_result"
    }
   ],
   "source": [
    "gby_reviewers = df.groupby('reviewerID',as_index=False)['overall'].mean()\n",
    "gby_reviewers = pd.DataFrame(gby_reviewers)\n",
    "gby_reviewers.head(5)"
   ]
  },
  {
   "cell_type": "code",
   "execution_count": 23,
   "metadata": {},
   "outputs": [
    {
     "data": {
      "text/plain": [
       "Text(0,0.5,'Count')"
      ]
     },
     "execution_count": 23,
     "metadata": {},
     "output_type": "execute_result"
    },
    {
     "data": {
      "image/png": "[encoded data removed]",
      "text/plain": [
       "<Figure size 2000x1000 with 2 Axes>"
      ]
     },
     "metadata": {},
     "output_type": "display_data"
    }
   ],
   "source": [
    "fig, axes = plt.subplots(1, 2,figsize=(20,10))\n",
    "\n",
    "axes[0].hist(gby_reviewers['overall'], bins=32, facecolor='g')\n",
    "axes[0].set_title('Overall mean rating per reviewers')\n",
    "axes[0].set_xlabel('Distribution of mean rating of clients',labelpad=20, weight='bold', size=15)\n",
    "axes[0].set_ylabel('Count',labelpad=20, weight='bold', size=15)\n",
    "\n",
    "axes[1].hist(gby_product['overall'], bins=32, facecolor='r')\n",
    "axes[1].set_title('Overall per item')\n",
    "axes[1].set_xlabel('Distribution of mean rating per item',labelpad=20, weight='bold', size=15)\n",
    "axes[1].set_ylabel('Count',labelpad=20, weight='bold', size=15)"
   ]
  },
  {
   "cell_type": "code",
   "execution_count": 24,
   "metadata": {},
   "outputs": [
    {
     "name": "stdout",
     "output_type": "stream",
     "text": [
      "Mean rating : 4.207314631437418 \n",
      "Mean rating per item : 4.118436215957035 \n",
      "Mean rating per reviewer : 4.114655868109862 \n"
     ]
    }
   ],
   "source": [
    "mean_rating_items = gby_product['overall'].mean()\n",
    "mean_rating_reviewers = gby_reviewers['overall'].mean()\n",
    "mean_rating = df['overall'].mean()\n",
    "\n",
    "print(\"Mean rating : %s \" % mean_rating)\n",
    "print(\"Mean rating per item : %s \" % mean_rating_items)\n",
    "print(\"Mean rating per reviewer : %s \" % mean_rating_reviewers)"
   ]
  },
  {
   "cell_type": "markdown",
   "metadata": {},
   "source": [
    "### B/  try to analyze reviewers behavior\n",
    "\n",
    "We're going to look into the number of reviews given for reviewers and see if there's any relationship between how often they give reviews and the rating they give."
   ]
  },
  {
   "cell_type": "code",
   "execution_count": 25,
   "metadata": {},
   "outputs": [],
   "source": [
    "def get_nb_reviews(reviewerID):\n",
    "    return df[df.reviewerID == reviewerID].shape[0]\n",
    "\n",
    "#gby_reviewers['nbreviews'] = gby_reviewers['reviewerID'].map(get_nb_reviews)\n",
    "df['count'] = 1\n",
    "gby_reviewers['count'] = df.groupby('reviewerID',as_index=False).agg({'count': sum})['count']\n",
    "\n",
    "gby_reviewers = gby_reviewers.sort_values(by=['overall'],ascending = False)\n",
    "\n"
   ]
  },
  {
   "cell_type": "code",
   "execution_count": 26,
   "metadata": {},
   "outputs": [
    {
     "data": {
      "text/plain": [
       "Text(0.5,1,'Mean ratings vs number of reviews (per person)')"
      ]
     },
     "execution_count": 26,
     "metadata": {},
     "output_type": "execute_result"
    },
    {
     "data": {
      "image/png": "[encoded data removed]",
      "text/plain": [
       "<Figure size 720x720 with 1 Axes>"
      ]
     },
     "metadata": {},
     "output_type": "display_data"
    }
   ],
   "source": [
    "plt.figure(figsize=(9,9), dpi=80)\n",
    "plt.scatter(gby_reviewers['count'], gby_reviewers.overall)\n",
    "plt.hexbin(gby_reviewers['count'], gby_reviewers.overall, alpha=.6, mincnt=1)\n",
    "plt.xlabel('Number of reviews of the reviewer',labelpad=20, weight='bold', size=12)\n",
    "plt.ylabel('Mean rating of the reviewer',labelpad=20, weight='bold', size=12)\n",
    "plt.title('Mean ratings vs number of reviews (per person)')"
   ]
  },
  {
   "cell_type": "markdown",
   "metadata": {},
   "source": [
    "We notice that there is no clear relationship between number of reviews given and the average rating, and yet, we can still see that people who give a lot of reviews tend to rate items correctly, meanwhile people who doesn't often review items (less than 100 reviews) are the majority and hence, they are the decisive part.\n"
   ]
  },
  {
   "cell_type": "markdown",
   "metadata": {},
   "source": [
    "### C/  Analysis of helpfulness of reviews\n"
   ]
  },
  {
   "cell_type": "code",
   "execution_count": 27,
   "metadata": {},
   "outputs": [],
   "source": [
    "# @TODO remove; this was for samples\n",
    "#def compute_ratio_help(h):\n",
    "#    if h[1] != 0:\n",
    "#        return 100*h[0] / h[1]\n",
    "#    else:\n",
    "#        return np.nan\n",
    "#df['helpful_ratio'] = df['helpful'].map(compute_ratio_help)\n",
    "#df_help = df[['helpful_ratio']].dropna()\n",
    "\n",
    "\n",
    "df['helpful_ratio'] = df['helpful_votes'] / df['total_votes']\n",
    "df_help = df[['helpful_ratio']].dropna()"
   ]
  },
  {
   "cell_type": "code",
   "execution_count": 28,
   "metadata": {},
   "outputs": [
    {
     "data": {
      "text/plain": [
       "<matplotlib.axes._subplots.AxesSubplot at 0x7f87d6cf19e8>"
      ]
     },
     "execution_count": 28,
     "metadata": {},
     "output_type": "execute_result"
    },
    {
     "data": {
      "image/png": "[encoded data removed]",
      "text/plain": [
       "<Figure size 1300x600 with 1 Axes>"
      ]
     },
     "metadata": {},
     "output_type": "display_data"
    }
   ],
   "source": [
    "df_help.head()\n",
    "\n",
    "# Plot distributions of helpfulness\n",
    "df_help.plot.hist(bins=10)"
   ]
  },
  {
   "cell_type": "markdown",
   "metadata": {},
   "source": [
    "Helpfulness can be a useful metric for further analysis in the next step, since a majority of reviews can be considered as helpful. We can also extend the analysis to relationship between helpfulness of the review and the textual comment."
   ]
  },
  {
   "cell_type": "markdown",
   "metadata": {},
   "source": [
    "### D/ Effect of first reviews on other reviews. (update for Millestone 3)"
   ]
  },
  {
   "cell_type": "markdown",
   "metadata": {},
   "source": [
    "* We work again with groupedbyItems\n",
    "* We're going to collect the rating of the first reviews and compare it to the average rating of the item.\n",
    "\n",
    "### This is one of the main questions we tried to answer, and we will continue to do so when we use the whole dataset, or at least try to find the category of items where this can be considered true."
   ]
  },
  {
   "cell_type": "code",
   "execution_count": 29,
   "metadata": {},
   "outputs": [
    {
     "data": {
      "text/html": [
       "<div>\n",
       "<style scoped>\n",
       "    .dataframe tbody tr th:only-of-type {\n",
       "        vertical-align: middle;\n",
       "    }\n",
       "\n",
       "    .dataframe tbody tr th {\n",
       "        vertical-align: top;\n",
       "    }\n",
       "\n",
       "    .dataframe thead th {\n",
       "        text-align: right;\n",
       "    }\n",
       "</style>\n",
       "<table border=\"1\" class=\"dataframe\">\n",
       "  <thead>\n",
       "    <tr style=\"text-align: right;\">\n",
       "      <th></th>\n",
       "      <th>asin</th>\n",
       "      <th>overall</th>\n",
       "      <th>first_rating</th>\n",
       "    </tr>\n",
       "  </thead>\n",
       "  <tbody>\n",
       "    <tr>\n",
       "      <th>0</th>\n",
       "      <td>0001487795</td>\n",
       "      <td>5.0</td>\n",
       "      <td>5.0</td>\n",
       "    </tr>\n",
       "    <tr>\n",
       "      <th>1</th>\n",
       "      <td>0130350591</td>\n",
       "      <td>5.0</td>\n",
       "      <td>5.0</td>\n",
       "    </tr>\n",
       "    <tr>\n",
       "      <th>2</th>\n",
       "      <td>0555667502</td>\n",
       "      <td>5.0</td>\n",
       "      <td>5.0</td>\n",
       "    </tr>\n",
       "    <tr>\n",
       "      <th>3</th>\n",
       "      <td>0594006112</td>\n",
       "      <td>5.0</td>\n",
       "      <td>5.0</td>\n",
       "    </tr>\n",
       "    <tr>\n",
       "      <th>4</th>\n",
       "      <td>0594255139</td>\n",
       "      <td>5.0</td>\n",
       "      <td>5.0</td>\n",
       "    </tr>\n",
       "    <tr>\n",
       "      <th>5</th>\n",
       "      <td>0594456207</td>\n",
       "      <td>2.0</td>\n",
       "      <td>2.0</td>\n",
       "    </tr>\n",
       "    <tr>\n",
       "      <th>6</th>\n",
       "      <td>0615444261</td>\n",
       "      <td>5.0</td>\n",
       "      <td>5.0</td>\n",
       "    </tr>\n",
       "    <tr>\n",
       "      <th>7</th>\n",
       "      <td>061560272X</td>\n",
       "      <td>5.0</td>\n",
       "      <td>5.0</td>\n",
       "    </tr>\n",
       "    <tr>\n",
       "      <th>8</th>\n",
       "      <td>0615830528</td>\n",
       "      <td>3.0</td>\n",
       "      <td>3.0</td>\n",
       "    </tr>\n",
       "    <tr>\n",
       "      <th>9</th>\n",
       "      <td>0641719248</td>\n",
       "      <td>5.0</td>\n",
       "      <td>5.0</td>\n",
       "    </tr>\n",
       "  </tbody>\n",
       "</table>\n",
       "</div>"
      ],
      "text/plain": [
       "         asin  overall  first_rating\n",
       "0  0001487795      5.0           5.0\n",
       "1  0130350591      5.0           5.0\n",
       "2  0555667502      5.0           5.0\n",
       "3  0594006112      5.0           5.0\n",
       "4  0594255139      5.0           5.0\n",
       "5  0594456207      2.0           2.0\n",
       "6  0615444261      5.0           5.0\n",
       "7  061560272X      5.0           5.0\n",
       "8  0615830528      3.0           3.0\n",
       "9  0641719248      5.0           5.0"
      ]
     },
     "execution_count": 29,
     "metadata": {},
     "output_type": "execute_result"
    }
   ],
   "source": [
    "# @TODO remove - now computed when aggregating\n",
    "# @TODO check that first review is really the first....\n",
    "#def get_first_rating(asin):\n",
    "#    return df[df.asin == asin]['overall'].iloc[0]\n",
    "\n",
    "#gby_product['first_rating'] = gby_product['asin'].map(get_first_rating)\n",
    "\n",
    "gby_product.head(10)"
   ]
  },
  {
   "cell_type": "code",
   "execution_count": 30,
   "metadata": {},
   "outputs": [
    {
     "data": {
      "text/plain": [
       "Text(0,0.5,'Mean overall per item')"
      ]
     },
     "execution_count": 30,
     "metadata": {},
     "output_type": "execute_result"
    },
    {
     "data": {
      "image/png": "[encoded data removed]",
      "text/plain": [
       "<Figure size 720x720 with 1 Axes>"
      ]
     },
     "metadata": {},
     "output_type": "display_data"
    }
   ],
   "source": [
    "plt.figure(figsize=(9,9), dpi=80)\n",
    "plt.scatter(gby_product['first_rating'], gby_product.overall)\n",
    "plt.hexbin(gby_product['first_rating'], gby_product.overall, alpha=.6, mincnt=1)\n",
    "plt.xlabel('First review per item',labelpad=20, weight='bold', size=12)\n",
    "plt.ylabel('Mean overall per item',labelpad=20, weight='bold', size=12)"
   ]
  },
  {
   "cell_type": "markdown",
   "metadata": {},
   "source": [
    "### @todo add conclusion"
   ]
  },
  {
   "cell_type": "markdown",
   "metadata": {},
   "source": [
    "### E/ Applying sentiment analysis of reviews (update millestone 3)\n",
    "\n"
   ]
  },
  {
   "cell_type": "code",
   "execution_count": 31,
   "metadata": {},
   "outputs": [],
   "source": [
    "analyzer = SentimentIntensityAnalyzer()\n",
    "\n",
    "def extract_sentiment(review):\n",
    "    vs = analyzer.polarity_scores(review)\n",
    "    if vs['compound'] >= 0.05:\n",
    "        sentiment = 'positive'\n",
    "    elif vs['compound'] <= -0.05:\n",
    "        sentiment = 'negative'\n",
    "    else:\n",
    "        sentiment = 'neutral'\n",
    "    return sentiment"
   ]
  },
  {
   "cell_type": "code",
   "execution_count": null,
   "metadata": {},
   "outputs": [],
   "source": [
    "df['sentiment_review'] = df['reviewText'].map(extract_sentiment)\n",
    "df['sentiment_summary'] = df['summary'].map(extract_sentiment)"
   ]
  },
  {
   "cell_type": "code",
   "execution_count": null,
   "metadata": {},
   "outputs": [],
   "source": [
    "df.to_pickle(\"./petsupplies/final_df.pkl\")\n",
    "gby_product.to_pickle(\"./petsupplies/gby_product.pkl\")\n",
    "gby_reviewers.to_pickle(\"./petsupplies/gby_reviewers.pkl\")"
   ]
  },
  {
   "cell_type": "code",
   "execution_count": null,
   "metadata": {},
   "outputs": [],
   "source": [
    "#df\n",
    "#df.to_pickle(\"./petsupplies/final_df.pkl\")\n",
    "#gby_product.to_pickle(\"./petsupplies/gby_product.pkl\")\n",
    "#gby_reviewers.to_pickle(\"./petsupplies/gby_reviewers.pkl\")\n",
    "df = pd.read_pickle(\"./petsupplies/final_df.pkl\")\n",
    "gby_product = pd.read_pickle(\"./petsupplies/gby_product.pkl\")\n",
    "gby_reviewers = pd.read_pickle(\"./petsupplies/gby_reviewers.pkl\")"
   ]
  },
  {
   "cell_type": "code",
   "execution_count": null,
   "metadata": {},
   "outputs": [],
   "source": [
    "analyzer = SentimentIntensityAnalyzer()\n",
    "vs = analyzer.polarity_scores(\"hate\")\n",
    "\n",
    "vs"
   ]
  },
  {
   "cell_type": "code",
   "execution_count": null,
   "metadata": {},
   "outputs": [],
   "source": [
    "#df['sentiment'] = df['reviewText'].map(extract_sentiment)\n",
    "#s1 = extract_sentiment(df['reviewText'].iloc[0])\n",
    "#s1\n",
    "df.head()"
   ]
  },
  {
   "cell_type": "code",
   "execution_count": null,
   "metadata": {},
   "outputs": [],
   "source": [
    "sent_review = df[['overall', 'sentiment_review']]\n",
    "sent_summary = df[['overall', 'sentiment_summary']]"
   ]
  },
  {
   "cell_type": "markdown",
   "metadata": {},
   "source": [
    "### Analysis of reviews's sentiment"
   ]
  },
  {
   "cell_type": "code",
   "execution_count": null,
   "metadata": {},
   "outputs": [],
   "source": [
    "\n",
    "sent_review['count'] = 1\n",
    "pos = sent_review[sent_review.sentiment_review =='positive']\n",
    "neg = sent_review[sent_review.sentiment_review =='negative']\n",
    "neut = sent_review[sent_review.sentiment_review =='neutral']\n",
    "\n",
    "grouped = pos.groupby('overall').agg({'count': sum})\n",
    "grouped_neg = neg.groupby('overall').agg({'count': sum})\n",
    "grouped_neut = neut.groupby('overall').agg({'count': sum})\n",
    "grouped['negative'] = grouped_neg['count']\n",
    "grouped['neutral'] = grouped_neut['count']\n",
    "grouped = grouped.rename(index=str, columns={\"count\": \"positive\"})\n",
    "grouped.T.plot(kind='bar', rot=0, figsize=(15,9))\n",
    "#todo : for two other categories"
   ]
  },
  {
   "cell_type": "markdown",
   "metadata": {},
   "source": [
    "### Analysis of sumamry's sentiment"
   ]
  },
  {
   "cell_type": "code",
   "execution_count": null,
   "metadata": {},
   "outputs": [],
   "source": [
    "\n",
    "sent_summary['count'] = 1\n",
    "pos = sent_summary[sent_summary.sentiment_summary =='positive']\n",
    "neg = sent_summary[sent_summary.sentiment_summary =='negative']\n",
    "neut = sent_summary[sent_summary.sentiment_summary =='neutral']\n",
    "\n",
    "grouped = pos.groupby('overall').agg({'count': sum})\n",
    "grouped_neg = neg.groupby('overall').agg({'count': sum})\n",
    "grouped_neut = neut.groupby('overall').agg({'count': sum})\n",
    "grouped['negative'] = grouped_neg['count']\n",
    "grouped['neutral'] = grouped_neut['count']\n",
    "grouped = grouped.rename(index=str, columns={\"count\": \"positive\"})\n",
    "grouped.T.plot(kind='bar', rot=0, figsize=(15,9))\n",
    "#todo : for two other categories\n"
   ]
  },
  {
   "cell_type": "markdown",
   "metadata": {},
   "source": [
    "### let's find out how many of reviews' sentiment prediction match summaries' sentiment prediction, and explore the misleaging cases"
   ]
  },
  {
   "cell_type": "code",
   "execution_count": null,
   "metadata": {},
   "outputs": [],
   "source": [
    "grouped = df[df.sentiment_review == 'positive']\n",
    "grouped = grouped.groupby('sentiment_summary')['count'].agg({'count': sum})\n",
    "final = grouped.copy()\n",
    "\n",
    "final = final.rename(index=str, columns={\"count\": \"positive reviews\"})\n",
    "grouped = df[df.sentiment_review == 'negative']\n",
    "grouped = grouped.groupby('sentiment_summary')['count'].agg({'count': sum})\n",
    "final['negative reviews'] = grouped['count']\n",
    "grouped = df[df.sentiment_review == 'neutral']\n",
    "grouped = grouped.groupby('sentiment_summary')['count'].agg({'count': sum})\n",
    "final['neutral reviews'] = grouped['count']\n",
    "final.T.plot(kind='bar', stacked=True, rot=0, figsize=(15,9), colormap = 'viridis')\n"
   ]
  },
  {
   "cell_type": "code",
   "execution_count": null,
   "metadata": {},
   "outputs": [],
   "source": [
    "# Let's normalise the data\n",
    "\n",
    "final['positive reviews'] = 100 * final['positive reviews'] / final['positive reviews'].sum()\n",
    "final['negative reviews'] = 100 * final['negative reviews'] / final['negative reviews'].sum()\n",
    "final['neutral reviews'] = 100 * final['neutral reviews'] / final['neutral reviews'].sum()\n",
    "final.T.plot(kind='bar', stacked=True, rot=0, figsize=(15,9),colormap = 'viridis')\n"
   ]
  },
  {
   "cell_type": "markdown",
   "metadata": {},
   "source": [
    "### At this stage, we're going to focus on the  negative reviews, and try to understand why 40% of them has a positive prediction based on the summary. We're going to visualize the most frequent words of their summaries."
   ]
  },
  {
   "cell_type": "code",
   "execution_count": null,
   "metadata": {},
   "outputs": [],
   "source": [
    "neg_pos = df[df.sentiment_review =='negative']\n",
    "neg_pos = neg_pos[neg_pos.sentiment_summary =='positive']"
   ]
  },
  {
   "cell_type": "code",
   "execution_count": null,
   "metadata": {},
   "outputs": [],
   "source": [
    "summaries = []\n",
    "for t in neg_pos.summary:\n",
    "    summaries.append(t.lower())\n",
    "summaries = pd.Series(summaries).str.cat(sep=' ')\n",
    "from wordcloud import WordCloud\n",
    "\n",
    "wordcloud = WordCloud(width=1600, height=800,max_font_size=200,background_color='black',colormap='magma',max_words=200).generate(summaries)\n",
    "plt.figure(figsize=(12,10))\n",
    "plt.imshow(wordcloud, interpolation=\"bilinear\")\n",
    "plt.axis(\"off\")\n",
    "plt.show()"
   ]
  },
  {
   "cell_type": "code",
   "execution_count": null,
   "metadata": {},
   "outputs": [],
   "source": [
    "reviews = []\n",
    "for t in neg_pos.reviewText:\n",
    "    reviews.append(t.lower())\n",
    "reviews = pd.Series(reviews).str.cat(sep=' ')\n",
    "stop_w = ['cat','dog','pet']\n",
    "wordcloud = WordCloud(width=1600,stopwords = stop_w,  height=800,max_font_size=200,background_color='black',colormap='magma',max_words=200).generate(reviews)\n",
    "plt.figure(figsize=(12,10))\n",
    "plt.imshow(wordcloud, interpolation=\"bilinear\")\n",
    "plt.axis(\"off\")\n",
    "plt.show()\n"
   ]
  },
  {
   "cell_type": "markdown",
   "metadata": {},
   "source": [
    "### Let's see the ratings associated to these reviews"
   ]
  },
  {
   "cell_type": "code",
   "execution_count": null,
   "metadata": {},
   "outputs": [],
   "source": [
    "#todo : for two other categories\n",
    "grouped = neg_pos.groupby('overall').agg({'count': sum})\n",
    "grouped.T.plot(kind='bar',stacked=True, figsize=(15,9), colormap='magma')\n"
   ]
  },
  {
   "cell_type": "code",
   "execution_count": null,
   "metadata": {},
   "outputs": [],
   "source": [
    "neg_5 = neg_pos[neg_pos.overall == 5][['reviewText','summary']]\n",
    "neg_5['reviewText'].iloc[0]\n",
    "#Misleading information\n",
    "\n",
    "# Let's see now the examples with ratings \"1\", which can say that the positive summary text was misleading\n",
    "neg_1 = neg_pos[neg_pos.overall == 1][['reviewText','summary']]\n",
    "neg_1['summary'].iloc[4]\n",
    "\n",
    "# Sarcasm + errors + complaining"
   ]
  },
  {
   "cell_type": "markdown",
   "metadata": {},
   "source": [
    "### Conclusion : The summary is way more meaningful in term of sentiment analysis, because it's short and then there are less chances to make mistakes in predictions, and also because the reviews with positive summary and negative review have a good rating ( usually 5 or 4 ), that's why we're going to focus more on it in building a classifier to confirm our conclusionv\n",
    "\n",
    "We're going to consider that a review with a rating of 5 or 4 means a positive sentiment, 3 as neutral and 2 and 1 as positive. "
   ]
  },
  {
   "cell_type": "code",
   "execution_count": null,
   "metadata": {},
   "outputs": [],
   "source": [
    "def to_sentiment(overall):\n",
    "    if overall >= 4:\n",
    "        sent = 1\n",
    "    else:\n",
    "        sent = 0\n",
    "    return sent\n",
    "classif = df[['summary','overall']]\n",
    "classif['overall'] = classif['overall'].map(to_sentiment)\n"
   ]
  },
  {
   "cell_type": "code",
   "execution_count": null,
   "metadata": {},
   "outputs": [],
   "source": [
    "from keras.preprocessing.text import Tokenizer\n",
    "from keras.preprocessing import sequence\n",
    "from keras.models import Sequential\n",
    "from keras.layers import Dense\n",
    "from keras.layers.convolutional import Convolution1D\n",
    "from keras.layers import Dense, Dropout, Embedding, LSTM, SpatialDropout1D\n",
    "from keras.layers.embeddings import Embedding\n",
    "from keras.layers import LSTM\n",
    "from keras.layers.recurrent import GRU"
   ]
  },
  {
   "cell_type": "code",
   "execution_count": null,
   "metadata": {},
   "outputs": [],
   "source": [
    "# We split our data into train and test: 70% for training and 30% for testing\n",
    "msk = np.random.rand(len(df)) <= 0.7\n",
    "\n",
    "train_set = classif[msk]\n",
    "test_set = classif[~msk]\n",
    "test_set\n",
    "labels = train_set['overall'].values\n"
   ]
  },
  {
   "cell_type": "code",
   "execution_count": null,
   "metadata": {},
   "outputs": [],
   "source": [
    "# At this stage, we tain keras tokenizer\n",
    "tokenizer = Tokenizer(split=' ')\n",
    "tokenizer.fit_on_texts(train_set['summary'].values)\n",
    "dict_token = tokenizer.word_index # To see the dicstionary of words kept\n",
    "\n",
    "# We store the number of features of the neural net since we havent' fixed it in tokenization\n",
    "nb_features = len(dict_token)\n",
    "\n",
    "#Converting tweets to sequences and then padding them\n",
    "train_sequences = tokenizer.texts_to_sequences(train_set['summary'].values)\n",
    "train_sequences_pad = sequence.pad_sequences(train_sequences, maxlen=30)\n",
    "\n",
    "test_sequences = tokenizer.texts_to_sequences(test_set['summary'].values)\n",
    "test_sequences_pad = sequence.pad_sequences(test_sequences, maxlen=30)\n",
    "\n",
    "# Labels\n",
    "labels = train_set['overall'].values\n",
    "\n",
    "# building the model\n",
    "embed_dim = 50\n",
    "lstm_out = 100\n",
    "model = Sequential()\n",
    "model.add(Embedding( nb_features+1, embed_dim,input_length = train_sequences_pad.shape[1]))\n",
    "model.add(LSTM(lstm_out, dropout=0.2, recurrent_dropout=0.2))\n",
    "model.add(Dense(1,activation='sigmoid'))\n",
    "model.compile(loss = 'binary_crossentropy', optimizer='adam',metrics = ['accuracy'])\n",
    "print(model.summary())\n",
    "\n",
    "\n",
    "#Fitting the model to training data\n",
    "model.fit(train_sequences_pad, labels, validation_split=0.1, epochs=1, batch_size=128, verbose=1)\n",
    "\n",
    "train_lstm = model.predict_proba(train_sequences_pad, batch_size=128)\n",
    "test_lstm = model.predict_proba(test_sequences_pad, batch_size=128)"
   ]
  },
  {
   "cell_type": "code",
   "execution_count": null,
   "metadata": {},
   "outputs": [],
   "source": [
    "import _pickle as cPickle\n",
    "\n",
    "test_lstm\n",
    "#Saving data to disk\n",
    "cPickle.dump(train_lstm, open('train_lstm.dat', 'wb'))\n",
    "cPickle.dump(test_lstm, open('test_lstm.dat', 'wb'))\n",
    "\n"
   ]
  },
  {
   "cell_type": "code",
   "execution_count": null,
   "metadata": {},
   "outputs": [],
   "source": [
    "train_lstm = cPickle.load(open(\"train_lstm.dat\", \"rb\"))\n",
    "test_lstm = cPickle.load(open(\"test_lstm.dat\", \"rb\"))\n",
    "labels.shape"
   ]
  },
  {
   "cell_type": "code",
   "execution_count": null,
   "metadata": {},
   "outputs": [],
   "source": [
    "train_lstm.shape"
   ]
  },
  {
   "cell_type": "code",
   "execution_count": null,
   "metadata": {},
   "outputs": [],
   "source": [
    "from sklearn.svm import LinearSVC\n",
    "\n",
    "# Classification using linear SVC\n",
    "clf = LinearSVC(random_state=0)\n",
    "clf.fit(train_lstm, labels)\n",
    "y_pred = clf.predict(test_lstm)\n",
    "\n",
    "print(y_pred)"
   ]
  },
  {
   "cell_type": "code",
   "execution_count": null,
   "metadata": {},
   "outputs": [],
   "source": [
    "test_set['overall'].values.shape"
   ]
  },
  {
   "cell_type": "code",
   "execution_count": null,
   "metadata": {},
   "outputs": [],
   "source": [
    "def plot_confusion_matrix(cm):\n",
    "    \"\"\"\n",
    "    Display the confusion matrix \n",
    "        :param cm: array\n",
    "        :return: plot of the confusion matrix\n",
    "    \"\"\"\n",
    "    plt.clf()\n",
    "    plt.rcParams['figure.figsize'] = [21, 8]\n",
    "    plt.imshow(cm, interpolation='nearest', cmap=plt.cm.Wistia)\n",
    "    classNames = ['Positive', 'Negative']\n",
    "    plt.title('Confusion Matrix', fontsize=18)\n",
    "    plt.ylabel('True label', fontsize=18)\n",
    "    plt.xlabel('Predicted label', fontsize=18)\n",
    "    tick_marks = np.arange(len(classNames))\n",
    "    plt.xticks(tick_marks, classNames, rotation=45)\n",
    "    plt.yticks(tick_marks, classNames)\n",
    "    s = [['TP','FP'], ['FN', 'TN']]\n",
    "    for i in range(2):\n",
    "        for j in range(2):\n",
    "            plt.text(j, i, str(s[i][j]) + \" = \" + str(cm[i][j]))\n",
    "    plt.show()\n"
   ]
  },
  {
   "cell_type": "code",
   "execution_count": null,
   "metadata": {},
   "outputs": [],
   "source": [
    "plot_confusion_matrix(sklearn.metrics.confusion_matrix(y_pred, test_set['overall'].values))"
   ]
  },
  {
   "cell_type": "markdown",
   "metadata": {},
   "source": [
    "# @TODO comment"
   ]
  },
  {
   "cell_type": "markdown",
   "metadata": {},
   "source": [
    "#### Conclusion of this phase of descriptive analysis\n",
    "\n",
    "1. We had some issues working with the whole dataset, so we chose to work firstly with a sample as a way to explore the data, and then we realised that many of questions we tried to work on are pretty hard to handle since we do not have enough to conclude. Yet, we still can work in depth concerning the influence of first reviews on the following ones.\n",
    "\n",
    "2. We needed more knowledge about NLP to work with textual data since it represesents more than 70% of the data, we believe that it can be useful in next step\n",
    "\n",
    "3. As for customer's behavior, we couldn' do much on a subset but if we ask for metadata (From the responsibles) we can work on it easily.\n",
    "\n",
    "4. until Next step, we will choose two axis of analysis and drop the others because it became hard to focus on one or two ideas, we will do that in very soon to start looking towards the real analysis."
   ]
  }
 ],
 "metadata": {
  "kernelspec": {
   "display_name": "Python 3",
   "language": "python",
   "name": "python3"
  },
  "language_info": {
   "codemirror_mode": {
    "name": "ipython",
    "version": 3
   },
   "file_extension": ".py",
   "mimetype": "text/x-python",
   "name": "python",
   "nbconvert_exporter": "python",
   "pygments_lexer": "ipython3",
   "version": "3.6.5"
  }
 },
 "nbformat": 4,
 "nbformat_minor": 2
}
